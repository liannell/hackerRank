{
 "cells": [
  {
   "cell_type": "markdown",
   "id": "19b258d0-f82d-41e2-95ad-956d5b15f064",
   "metadata": {
    "tags": []
   },
   "source": [
    "### Day 0: Mean, Median, and Mode"
   ]
  },
  {
   "cell_type": "code",
   "execution_count": 3,
   "id": "148fede9-7b5c-4431-8c11-67ef63e0ff34",
   "metadata": {
    "tags": []
   },
   "outputs": [
    {
     "name": "stdin",
     "output_type": "stream",
     "text": [
      " 10\n",
      " 64630 11735 14216 99233 14470 4978 73429 38120 51135 67060\n"
     ]
    }
   ],
   "source": [
    "n = int(input().strip())\n",
    "arr = list(map(int, input().rstrip().split()))"
   ]
  },
  {
   "cell_type": "code",
   "execution_count": 41,
   "id": "9772c681-3ff0-4627-860d-2ff9434f27c6",
   "metadata": {
    "tags": []
   },
   "outputs": [
    {
     "name": "stdout",
     "output_type": "stream",
     "text": [
      "43900.6\n",
      "44627.5\n",
      "4978\n"
     ]
    }
   ],
   "source": [
    "import statistics as st\n",
    "\n",
    "arr.sort()\n",
    "\n",
    "print(st.mean(arr))\n",
    "print(st.median(arr))\n",
    "print(st.mode(arr))"
   ]
  },
  {
   "cell_type": "markdown",
   "id": "3dd5a1ac-37d8-469a-8664-f3409189ee9e",
   "metadata": {
    "tags": []
   },
   "source": [
    "### Day 0: Weighted Mean"
   ]
  },
  {
   "cell_type": "code",
   "execution_count": 42,
   "id": "a8270547-a0e6-4b8b-a796-c6e09dcd4a39",
   "metadata": {
    "tags": []
   },
   "outputs": [
    {
     "name": "stdin",
     "output_type": "stream",
     "text": [
      " 5\n",
      " 10 40 30 50 20\n",
      " 1 2 3 4 5\n"
     ]
    }
   ],
   "source": [
    "n = int(input().strip())\n",
    "\n",
    "vals = list(map(int, input().rstrip().split()))\n",
    "\n",
    "weights = list(map(int, input().rstrip().split()))"
   ]
  },
  {
   "cell_type": "code",
   "execution_count": 48,
   "id": "ae7b9ad7-1b29-4b9f-b398-5d3c2c794d67",
   "metadata": {
    "tags": []
   },
   "outputs": [
    {
     "data": {
      "text/plain": [
       "[10, 80, 90, 200, 100]"
      ]
     },
     "execution_count": 48,
     "metadata": {},
     "output_type": "execute_result"
    }
   ],
   "source": [
    "product = []\n",
    "\n",
    "for i in range(n):\n",
    "    vw = vals[i] * weights[i]\n",
    "    product.append(vw)\n",
    "product"
   ]
  },
  {
   "cell_type": "code",
   "execution_count": 49,
   "id": "d0b19e76-98b8-4ff8-989c-c4168fb4357c",
   "metadata": {
    "tags": []
   },
   "outputs": [],
   "source": [
    "weighted_mean = sum(product)/sum(weights)"
   ]
  },
  {
   "cell_type": "code",
   "execution_count": 50,
   "id": "86579595-1a71-44ea-abc9-1ccc6c2b2aa6",
   "metadata": {
    "tags": []
   },
   "outputs": [
    {
     "data": {
      "text/plain": [
       "32.0"
      ]
     },
     "execution_count": 50,
     "metadata": {},
     "output_type": "execute_result"
    }
   ],
   "source": [
    "weighted_mean"
   ]
  },
  {
   "cell_type": "markdown",
   "id": "07e56a38-ff8e-4361-9ee2-6870f6c1d25c",
   "metadata": {
    "tags": []
   },
   "source": [
    "### Day 1: Quartiles"
   ]
  },
  {
   "cell_type": "code",
   "execution_count": 292,
   "id": "058af13c-d558-4762-8cb1-d5f8ff333275",
   "metadata": {},
   "outputs": [
    {
     "name": "stdin",
     "output_type": "stream",
     "text": [
      " 10\n",
      " 3 7 8 5 12 14 21 15 18 14\n"
     ]
    }
   ],
   "source": [
    "n = int(input().strip())\n",
    "data = list(map(int, input().rstrip().split()))"
   ]
  },
  {
   "cell_type": "code",
   "execution_count": 284,
   "id": "8eaf0f3b-d80c-4c41-9cf7-86450dd14bb1",
   "metadata": {
    "tags": []
   },
   "outputs": [],
   "source": [
    "import statistics as st"
   ]
  },
  {
   "cell_type": "code",
   "execution_count": 305,
   "id": "8967964d-c231-4a71-95a7-6fb5d28a98ac",
   "metadata": {
    "tags": []
   },
   "outputs": [],
   "source": [
    "\n",
    "def quartiles(arr):\n",
    "    arr.sort()\n",
    "    quartilesArr = []\n",
    "    partition = len(arr)/4\n",
    "    \n",
    "    for i in range(1,4):\n",
    "        index = partition * i\n",
    "        if float(index).is_integer() == True:\n",
    "            quartilesArr.append( int( (data[math.ceil(index) - 1] + data[math.ceil(index)] ) / 2) )\n",
    "        elif float(index - 0.50).is_integer() == True:\n",
    "            quartilesArr.append( int(data[math.ceil(index) - 1] ) )\n",
    "            #print(quartilesArr)\n",
    "        elif float(index - 0.25).is_integer() == True:\n",
    "            quartilesArr.append( int((data[math.floor(index) - 1] + data[math.ceil(index) - 1]) / 2 ) )\n",
    "            #print(quartilesArr)\n",
    "        elif float(index - 0.75).is_integer() == True:\n",
    "            quartilesArr.append( int((data[math.floor(index)] +  data[math.ceil(index)]) / 2 ) )\n",
    "           # print(quartilesArr)\n",
    "    return quartilesArr\n"
   ]
  },
  {
   "cell_type": "code",
   "execution_count": 306,
   "id": "4be5028b-fd64-44dc-8fb6-8075b6948682",
   "metadata": {
    "tags": []
   },
   "outputs": [
    {
     "name": "stdout",
     "output_type": "stream",
     "text": [
      "[7, 13, 15]\n"
     ]
    }
   ],
   "source": [
    "print(quartiles(data))"
   ]
  },
  {
   "cell_type": "markdown",
   "id": "8cd455e5-16e4-488b-b3c9-46790aad68d0",
   "metadata": {
    "tags": []
   },
   "source": [
    "### Day 1: Interquartile Range"
   ]
  },
  {
   "cell_type": "code",
   "execution_count": 88,
   "id": "0049ac6d-ae94-46a7-a862-197330f1908e",
   "metadata": {
    "tags": []
   },
   "outputs": [
    {
     "name": "stdin",
     "output_type": "stream",
     "text": [
      " 5\n",
      " 10 40 30 50 20\n",
      " 1 2 3 4 5\n"
     ]
    }
   ],
   "source": [
    "n = int(input().strip())\n",
    "\n",
    "val = list(map(int, input().rstrip().split()))\n",
    "\n",
    "freq = list(map(int, input().rstrip().split()))"
   ]
  },
  {
   "cell_type": "code",
   "execution_count": 83,
   "id": "bc617d2a-9af4-40ed-b20b-358e5f161e7b",
   "metadata": {
    "tags": []
   },
   "outputs": [],
   "source": [
    "from statistics import median\n",
    "\n",
    "def interQuartile(values, freqs):\n",
    "    S = [v for v,f in zip(values,freqs) for i in range(f)]\n",
    "    S.sort()\n",
    "    Q1 = median(S[ : len(S)//2])\n",
    "    Q3 = median(S[len(S)//2 * -1 :])\n",
    "    \n",
    "    print( Q1, Q2)\n",
    "    print(f\"{ Q3-Q1 :.1f}\")"
   ]
  },
  {
   "cell_type": "code",
   "execution_count": 84,
   "id": "437081a8-e444-4c40-81e1-2af8a5dc15ee",
   "metadata": {
    "tags": []
   },
   "outputs": [
    {
     "name": "stdout",
     "output_type": "stream",
     "text": [
      "9.0\n"
     ]
    }
   ],
   "source": [
    "interQuartile(val, freq)"
   ]
  },
  {
   "cell_type": "markdown",
   "id": "12c2249f-2526-47e6-b00e-46bee07d82ff",
   "metadata": {
    "tags": []
   },
   "source": [
    "### Day 1: Standard Deviation"
   ]
  },
  {
   "cell_type": "code",
   "execution_count": 1,
   "id": "6e71c7b2-4f07-482d-84be-03127648347a",
   "metadata": {},
   "outputs": [
    {
     "name": "stdin",
     "output_type": "stream",
     "text": [
      " 5\n",
      " 10 40 30 50 20 \n"
     ]
    }
   ],
   "source": [
    "n = int(input().strip())\n",
    "\n",
    "vals = list(map(int, input().rstrip().split()))"
   ]
  },
  {
   "cell_type": "code",
   "execution_count": 2,
   "id": "2f698973-ccf4-444a-aa20-3f123cddce14",
   "metadata": {
    "tags": []
   },
   "outputs": [
    {
     "data": {
      "text/plain": [
       "[10, 40, 30, 50, 20]"
      ]
     },
     "execution_count": 2,
     "metadata": {},
     "output_type": "execute_result"
    }
   ],
   "source": [
    "vals"
   ]
  },
  {
   "cell_type": "code",
   "execution_count": 21,
   "id": "c3f6ad01-d9d9-4a63-8622-ae9ff94acec0",
   "metadata": {
    "tags": []
   },
   "outputs": [],
   "source": [
    "import math\n",
    "from statistics import mean\n",
    "from statistics import stdev\n",
    "mean = mean(vals)"
   ]
  },
  {
   "cell_type": "code",
   "execution_count": 15,
   "id": "8ccaee63-2924-4afc-8bc3-a4e1d84c4239",
   "metadata": {
    "tags": []
   },
   "outputs": [],
   "source": [
    "sd = []\n",
    "for i in vals:\n",
    "    squaredDiff = (i-mean) ** 2\n",
    "    sd.append(squaredDiff)"
   ]
  },
  {
   "cell_type": "code",
   "execution_count": 22,
   "id": "d4125c3f-10fb-4849-b66e-6b99c69b55c3",
   "metadata": {
    "tags": []
   },
   "outputs": [
    {
     "data": {
      "text/plain": [
       "14.142135623730951"
      ]
     },
     "execution_count": 22,
     "metadata": {},
     "output_type": "execute_result"
    }
   ],
   "source": [
    "math.sqrt(sum(sd) / len(vals))"
   ]
  },
  {
   "cell_type": "code",
   "execution_count": 19,
   "id": "21510e1b-3236-4820-9e1f-3bc38fb1f0d6",
   "metadata": {
    "tags": []
   },
   "outputs": [
    {
     "data": {
      "text/plain": [
       "15.811388300841896"
      ]
     },
     "execution_count": 19,
     "metadata": {},
     "output_type": "execute_result"
    }
   ],
   "source": [
    "stdev(vals)\n",
    "print(f\"{stdev(vals) :.1f}\")"
   ]
  },
  {
   "cell_type": "code",
   "execution_count": 36,
   "id": "ef86fc6a-a5c6-4750-bc71-3d6bc83a4bad",
   "metadata": {
    "tags": []
   },
   "outputs": [],
   "source": [
    "a = [1, 2, 3, 4, 5, 3, 2, 1]"
   ]
  },
  {
   "cell_type": "code",
   "execution_count": 24,
   "id": "258e10e7-f578-46ec-820f-0fe504c2adff",
   "metadata": {
    "tags": []
   },
   "outputs": [
    {
     "data": {
      "text/plain": [
       "{1, 2, 3, 4}"
      ]
     },
     "execution_count": 24,
     "metadata": {},
     "output_type": "execute_result"
    }
   ],
   "source": [
    "set(a)"
   ]
  },
  {
   "cell_type": "code",
   "execution_count": 29,
   "id": "9b102b66-2011-4bc7-85f9-372580e295ae",
   "metadata": {
    "tags": []
   },
   "outputs": [
    {
     "data": {
      "text/plain": [
       "1"
      ]
     },
     "execution_count": 29,
     "metadata": {},
     "output_type": "execute_result"
    }
   ],
   "source": [
    "a.count(4)"
   ]
  },
  {
   "cell_type": "code",
   "execution_count": 31,
   "id": "eff89eac-4178-49cd-bdc8-c1d35885cfaa",
   "metadata": {
    "tags": []
   },
   "outputs": [
    {
     "data": {
      "text/plain": [
       "[(1, 4), (2, 1), (2, 2), (2, 3)]"
      ]
     },
     "execution_count": 31,
     "metadata": {},
     "output_type": "execute_result"
    }
   ],
   "source": [
    "cnt = sorted([ (a.count(i), i) for i in set(a)])\n",
    "cnt"
   ]
  },
  {
   "cell_type": "code",
   "execution_count": 43,
   "id": "739c1c30-f2d3-4209-ba6d-68d9d739b911",
   "metadata": {
    "tags": []
   },
   "outputs": [
    {
     "name": "stdout",
     "output_type": "stream",
     "text": [
      "4 5\n"
     ]
    }
   ],
   "source": [
    "cnt = [i for i in set(a) if a.count(i) == 1]\n",
    "print(*sorted(cnt), sep = ' ')"
   ]
  },
  {
   "cell_type": "code",
   "execution_count": 35,
   "id": "067436fd-35eb-421d-bb11-96f8589b691e",
   "metadata": {
    "tags": []
   },
   "outputs": [
    {
     "data": {
      "text/plain": [
       "[4]"
      ]
     },
     "execution_count": 35,
     "metadata": {},
     "output_type": "execute_result"
    }
   ],
   "source": [
    "print(*"
   ]
  },
  {
   "cell_type": "code",
   "execution_count": 45,
   "id": "1d55eb9d-1716-47ee-83ac-b32767e665f7",
   "metadata": {
    "tags": []
   },
   "outputs": [
    {
     "ename": "SyntaxError",
     "evalue": "can't use starred expression here (2809739673.py, line 1)",
     "output_type": "error",
     "traceback": [
      "\u001b[0;36m  File \u001b[0;32m\"/var/folders/x7/g3jn_87d3cldljmb204fyzwm0000gn/T/ipykernel_4503/2809739673.py\"\u001b[0;36m, line \u001b[0;32m1\u001b[0m\n\u001b[0;31m    *cnt\u001b[0m\n\u001b[0m    ^\u001b[0m\n\u001b[0;31mSyntaxError\u001b[0m\u001b[0;31m:\u001b[0m can't use starred expression here\n"
     ]
    }
   ],
   "source": []
  },
  {
   "cell_type": "code",
   "execution_count": null,
   "id": "8e08e618-2c6b-4a6c-8d23-c35b8ed6b3fa",
   "metadata": {},
   "outputs": [],
   "source": []
  }
 ],
 "metadata": {
  "kernelspec": {
   "display_name": "sandboxDS",
   "language": "python",
   "name": "sandboxds"
  },
  "language_info": {
   "codemirror_mode": {
    "name": "ipython",
    "version": 3
   },
   "file_extension": ".py",
   "mimetype": "text/x-python",
   "name": "python",
   "nbconvert_exporter": "python",
   "pygments_lexer": "ipython3",
   "version": "3.9.13"
  }
 },
 "nbformat": 4,
 "nbformat_minor": 5
}
