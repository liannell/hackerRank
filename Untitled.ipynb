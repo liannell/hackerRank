{
 "cells": [
  {
   "cell_type": "markdown",
   "id": "03cd5059-414c-457a-9931-b3d2b9e6f2db",
   "metadata": {
    "tags": []
   },
   "source": [
    "### Compare the Triplets"
   ]
  },
  {
   "cell_type": "code",
   "execution_count": null,
   "id": "2cf21ee4-a86c-41d8-bcd0-7c01392148b1",
   "metadata": {
    "tags": []
   },
   "outputs": [],
   "source": [
    "a = [ 5, 6, 7 ]\n",
    "b = [ 3, 6, 10 ]"
   ]
  },
  {
   "cell_type": "code",
   "execution_count": null,
   "id": "ac992fb2-1d94-49f5-83e4-349ddfcee175",
   "metadata": {
    "tags": []
   },
   "outputs": [],
   "source": [
    "alice = 0\n",
    "bob = 0\n",
    "score = []\n",
    "for i in range(3):\n",
    "    if a[i] - b[i] > 0:\n",
    "            alice +=1\n",
    "    elif a[i] - b[i] < 0:\n",
    "            bob +=1\n",
    "score = [ alice, bob ]"
   ]
  },
  {
   "cell_type": "markdown",
   "id": "d6d1894e-09bd-49df-b71f-e4af3fe5bb64",
   "metadata": {
    "tags": []
   },
   "source": [
    "###  Very Big Sum"
   ]
  },
  {
   "cell_type": "code",
   "execution_count": null,
   "id": "359c6aa5-20fe-4aa8-b2db-597f9b3bf15a",
   "metadata": {
    "tags": []
   },
   "outputs": [],
   "source": [
    "n = 5\n",
    "arr =  [1000000001, 1000000002, 1000000003, 1000000004, 1000000005]"
   ]
  },
  {
   "cell_type": "code",
   "execution_count": null,
   "id": "8516d00a-7179-43fc-acb8-131414411d7c",
   "metadata": {
    "tags": []
   },
   "outputs": [],
   "source": [
    "arr"
   ]
  },
  {
   "cell_type": "code",
   "execution_count": null,
   "id": "f52674a7-a091-42a1-a40b-212485f70623",
   "metadata": {
    "tags": []
   },
   "outputs": [],
   "source": [
    "sum(arr)"
   ]
  },
  {
   "cell_type": "markdown",
   "id": "437082bb-42ad-4ad3-8e15-bfec78e17ae4",
   "metadata": {
    "tags": []
   },
   "source": [
    "###  Diagonal Difference"
   ]
  },
  {
   "cell_type": "code",
   "execution_count": null,
   "id": "3cdfd9d2-1188-4fe0-971c-b763e4e80961",
   "metadata": {
    "tags": []
   },
   "outputs": [],
   "source": [
    "n = int(input().strip())\n",
    "arr = []\n",
    "\n",
    "for _ in range(n):\n",
    "    arr.append(list(map(int, input().rstrip().split())))"
   ]
  },
  {
   "cell_type": "code",
   "execution_count": null,
   "id": "a2431aee-8db6-4f93-a8c2-e4fffa56ef15",
   "metadata": {
    "tags": []
   },
   "outputs": [],
   "source": [
    "def diagonalDifference(arr):\n",
    "    rightD = []\n",
    "    leftD = []\n",
    "    for i in range(n):\n",
    "        rightD.append(arr[i][i])\n",
    "    \n",
    "        j = (n - 1) - i\n",
    "        leftD.append(arr[i][j])\n",
    "\n",
    "    diff = abs(sum(leftD) - sum(rightD))\n",
    "    return diff"
   ]
  },
  {
   "cell_type": "markdown",
   "id": "243f7644-2c23-4617-8d86-227032334d75",
   "metadata": {
    "tags": []
   },
   "source": [
    "###  Birthday Cake Candles"
   ]
  },
  {
   "cell_type": "code",
   "execution_count": null,
   "id": "78b07c71-fa0e-4cdf-9eb1-a6d881c1c2df",
   "metadata": {
    "tags": []
   },
   "outputs": [],
   "source": [
    "candles_count = int(input().strip())\n",
    "candles = list(map(int, input().rstrip().split()))"
   ]
  },
  {
   "cell_type": "code",
   "execution_count": null,
   "id": "902f8023-a263-4e5f-bafb-d2e731741285",
   "metadata": {
    "tags": []
   },
   "outputs": [],
   "source": [
    "print(candles.count(max(candles)))"
   ]
  },
  {
   "cell_type": "markdown",
   "id": "c38d2369-7d64-40be-9a91-c421d1b971d6",
   "metadata": {
    "tags": []
   },
   "source": [
    "###  Staircase"
   ]
  },
  {
   "cell_type": "code",
   "execution_count": null,
   "id": "2c75a655-bcd0-48ae-b3a5-a479ed4c7e97",
   "metadata": {
    "tags": []
   },
   "outputs": [],
   "source": [
    "n = int(input().strip())"
   ]
  },
  {
   "cell_type": "code",
   "execution_count": null,
   "id": "4e91ae79-3e1f-4004-bd41-f775602e01ad",
   "metadata": {
    "tags": []
   },
   "outputs": [],
   "source": [
    "for i in range(n):\n",
    "    i +=1\n",
    "    print(' ' * (n-i), '*' * i )"
   ]
  },
  {
   "cell_type": "code",
   "execution_count": null,
   "id": "deefe432-ecee-48d8-be1e-6631c65ff310",
   "metadata": {
    "tags": []
   },
   "outputs": [],
   "source": [
    "for i in range(1,n+1):\n",
    "    print(('#'*i).rjust(n))"
   ]
  },
  {
   "cell_type": "markdown",
   "id": "32e2b7c1-375b-4926-b747-fc0adf907dd7",
   "metadata": {},
   "source": [
    "### Grading Students"
   ]
  },
  {
   "cell_type": "code",
   "execution_count": null,
   "id": "0bdcef5a-e0dd-4c49-a25b-48059da88e07",
   "metadata": {
    "tags": []
   },
   "outputs": [],
   "source": [
    "grades_count = int(input().strip())\n",
    "\n",
    "grades = []\n",
    "\n",
    "for _ in range(grades_count):\n",
    "    grades_item = int(input().strip())\n",
    "    grades.append(grades_item)"
   ]
  },
  {
   "cell_type": "code",
   "execution_count": null,
   "id": "5ecdcb3b-2e1e-4403-b2f6-947b2beb3e1e",
   "metadata": {
    "tags": []
   },
   "outputs": [],
   "source": [
    "grades"
   ]
  },
  {
   "cell_type": "code",
   "execution_count": null,
   "id": "63f0506d-9028-498b-b6c6-cfdf8582f9b5",
   "metadata": {
    "tags": []
   },
   "outputs": [],
   "source": [
    "final_grade = []\n",
    "for grade in grades:\n",
    "    if grade < 38:\n",
    "        final_grade.append(grade)\n",
    "    elif (grade%5 >= 3):\n",
    "        new = (grade//5 + 1) * 5\n",
    "        final_grade.append(new)\n",
    "    elif (grade%5 < 3):\n",
    "        final_grade.append(grade)"
   ]
  },
  {
   "cell_type": "code",
   "execution_count": null,
   "id": "7acde827-9bfd-4a23-a8b1-d1d53ad61acc",
   "metadata": {
    "tags": []
   },
   "outputs": [],
   "source": [
    "final_grade"
   ]
  },
  {
   "cell_type": "code",
   "execution_count": null,
   "id": "ceb5096d-bb7b-4c55-a1d2-bf8b21b3d4a2",
   "metadata": {
    "tags": []
   },
   "outputs": [],
   "source": [
    "grade = 38\n",
    "if grade < 40:\n",
    "    print(grade)\n",
    "elif (grade%5 >= 3):\n",
    "    new = (grade//5 + 1) * 5\n",
    "    print(new)\n",
    "elif (grade%5 < 3):\n",
    "    print(grade)"
   ]
  },
  {
   "cell_type": "code",
   "execution_count": null,
   "id": "395af3e9-556b-4707-87f0-d40e51a8b9a1",
   "metadata": {
    "tags": []
   },
   "outputs": [],
   "source": []
  },
  {
   "cell_type": "code",
   "execution_count": null,
   "id": "7cd0ed60-a2a5-421f-86ad-341b74d74f7b",
   "metadata": {
    "tags": []
   },
   "outputs": [],
   "source": [
    "N = int(input())\n",
    "inputs = []\n",
    "\n",
    "for i in range(N):\n",
    "    c = input()\n",
    "    inputs.append(c)"
   ]
  },
  {
   "cell_type": "code",
   "execution_count": null,
   "id": "b7024d7e-c3d0-46ca-b68b-70b9873fe52a",
   "metadata": {
    "tags": []
   },
   "outputs": [],
   "source": [
    "inputs"
   ]
  },
  {
   "cell_type": "code",
   "execution_count": null,
   "id": "7f9d1687-870a-4cdc-8d24-46ce3d6688d7",
   "metadata": {
    "tags": []
   },
   "outputs": [],
   "source": [
    "commands = []"
   ]
  },
  {
   "cell_type": "code",
   "execution_count": null,
   "id": "9a89ca45-50fa-47f7-b544-9aad7acda50c",
   "metadata": {
    "tags": []
   },
   "outputs": [],
   "source": [
    "for command in inputs:\n",
    "    syntax = command.split()\n",
    "    commands.append(syntax)"
   ]
  },
  {
   "cell_type": "code",
   "execution_count": null,
   "id": "4d2e6a4f-9d7d-4fb0-979f-4415fb067125",
   "metadata": {
    "tags": []
   },
   "outputs": [],
   "source": [
    "commands"
   ]
  },
  {
   "cell_type": "code",
   "execution_count": null,
   "id": "f938dfb3-d212-419f-bccb-4c515d0a4287",
   "metadata": {
    "tags": []
   },
   "outputs": [],
   "source": [
    "commands["
   ]
  },
  {
   "cell_type": "code",
   "execution_count": null,
   "id": "aa47fbae-14e4-4caf-a172-cfb68478171f",
   "metadata": {
    "tags": []
   },
   "outputs": [],
   "source": [
    "len(commands[0])"
   ]
  },
  {
   "cell_type": "code",
   "execution_count": null,
   "id": "7a875ece-0c8f-4d00-b14e-b72b461ac066",
   "metadata": {
    "tags": []
   },
   "outputs": [],
   "source": [
    "arr = []\n",
    "for i in commands:\n",
    "    if len(i) == 1 and i == 'print':\n",
    "        print(arr)\n",
    "        \n",
    "    elif len(i) == 1 and i == 'sort':\n",
    "        arr.sort()\n",
    "        \n",
    "    elif len(i) == 1 and i ==  'pop':\n",
    "        arr.pop()\n",
    "        \n",
    "    elif len(i) == 1 and i == 'reverse':\n",
    "        arr.reverse()\n",
    "\n",
    "    elif len(i) == 2 and i[0] == 'remove':\n",
    "        arr.remove( int(i[1]) )\n",
    "        \n",
    "    elif len(i) == 2 and i[0] == 'append':\n",
    "        arr.append( int(i[1]) )\n",
    "            \n",
    "    elif len(i) == 3 and i[0] == 'insert':\n",
    "        arr.insert( int(i[1]) , int(i[2]) )"
   ]
  },
  {
   "cell_type": "code",
   "execution_count": null,
   "id": "088b1ad2-a054-4b8f-a7fb-7c7d82876009",
   "metadata": {
    "tags": []
   },
   "outputs": [],
   "source": [
    "yyy = [1, 2, 3, 'a', 'b']"
   ]
  },
  {
   "cell_type": "code",
   "execution_count": null,
   "id": "45d20347-e504-4ea4-9089-589f3201e0ec",
   "metadata": {
    "tags": []
   },
   "outputs": [],
   "source": [
    "yyy.pop()"
   ]
  },
  {
   "cell_type": "code",
   "execution_count": null,
   "id": "2c022fe9-f983-4c75-aa97-2f2d87269071",
   "metadata": {
    "tags": []
   },
   "outputs": [],
   "source": [
    "yyy.reverse()"
   ]
  },
  {
   "cell_type": "code",
   "execution_count": null,
   "id": "0d05cb8e-bdc3-40ac-bf13-c878bd4e0e56",
   "metadata": {
    "tags": []
   },
   "outputs": [],
   "source": [
    "yyy"
   ]
  },
  {
   "cell_type": "code",
   "execution_count": null,
   "id": "fd8d6cf8-d9a3-40aa-a810-9459b865a28c",
   "metadata": {
    "tags": []
   },
   "outputs": [],
   "source": [
    "yyy.insert()"
   ]
  },
  {
   "cell_type": "code",
   "execution_count": null,
   "id": "84f6ee64-959b-48c8-82bc-a348d0d61126",
   "metadata": {
    "tags": []
   },
   "outputs": [],
   "source": [
    "i = commands[1]\n",
    "\n",
    "if len(i) == 1 and i == 'print':\n",
    "    print(arr)\n",
    "        \n",
    "elif len(i) == 1 and i == 'sort':\n",
    "     arr.sort()\n",
    "        \n",
    "elif len(i) == 1 and i ==  'pop':\n",
    "    arr.pop()\n",
    "        \n",
    "elif len(i) == 1 and i == 'reverse':\n",
    "    arr.reverse()\n",
    "\n",
    "elif len(i) == 2 and i[0] == 'remove':\n",
    "    arr.remove( int(i[1]) )\n",
    "        \n",
    "elif len(i) == 2 and i[0] == 'append':\n",
    "    arr.append( int(i[1]) )\n",
    "            \n",
    "elif len(i) == 3 and i[0] == 'insert':\n",
    "    arr.insert( int(i[1]) , int(i[2]) )\n"
   ]
  },
  {
   "cell_type": "code",
   "execution_count": null,
   "id": "a7057eea-2b5d-47af-94b6-e76f314baebb",
   "metadata": {
    "tags": []
   },
   "outputs": [],
   "source": [
    "print(arr)"
   ]
  },
  {
   "cell_type": "code",
   "execution_count": null,
   "id": "501aae1a-2e5c-44a2-aeb5-9ae902964a12",
   "metadata": {
    "tags": []
   },
   "outputs": [],
   "source": [
    "arr = []"
   ]
  },
  {
   "cell_type": "code",
   "execution_count": 4,
   "id": "af0e8276-91fd-4aa4-af96-704ab0e9068e",
   "metadata": {
    "tags": []
   },
   "outputs": [
    {
     "name": "stdin",
     "output_type": "stream",
     "text": [
      " 12\n"
     ]
    }
   ],
   "source": [
    "N = int(input())\n",
    "arr = []"
   ]
  },
  {
   "cell_type": "code",
   "execution_count": null,
   "id": "84bf3371-c3b4-4acb-ba78-27eb278d08c8",
   "metadata": {
    "tags": []
   },
   "outputs": [],
   "source": [
    "insert 0 5\n",
    "insert 1 10\n",
    "insert 0 6\n",
    "print\n",
    "remove 6\n",
    "append 9\n",
    "append 1\n",
    "sort\n",
    "print\n",
    "pop\n",
    "reverse\n",
    "print"
   ]
  },
  {
   "cell_type": "code",
   "execution_count": 3,
   "id": "c6d8b526-7801-48c3-976e-4e9c12ae2f2f",
   "metadata": {
    "tags": []
   },
   "outputs": [
    {
     "data": {
      "text/plain": [
       "'print'"
      ]
     },
     "execution_count": 3,
     "metadata": {},
     "output_type": "execute_result"
    }
   ],
   "source": [
    "for i in range(N):\n",
    "    opCommand, *args = input().split()\n",
    "    \n",
    "    if opCommand == \"print\":\n",
    "        print(arr)\n",
    "    else:\n",
    "        exp = ','.join(args)\n",
    "        eval(f'arr.{opCommand}({exp})')"
   ]
  },
  {
   "cell_type": "code",
   "execution_count": 17,
   "id": "1c2f1307-534f-406e-bbd1-c3cf714704d7",
   "metadata": {
    "tags": []
   },
   "outputs": [
    {
     "name": "stdin",
     "output_type": "stream",
     "text": [
      " 4\n",
      " insert 0 5\n",
      " print\n",
      " insert 0 6\n",
      " insert 1 10\n"
     ]
    }
   ],
   "source": [
    "N = int(input())\n",
    "inputs = []\n",
    "\n",
    "for i in range(N):\n",
    "    c = input()\n",
    "    inputs.append(c)"
   ]
  },
  {
   "cell_type": "code",
   "execution_count": 18,
   "id": "17112a5a-3e69-47f0-bbfe-c1880a591b62",
   "metadata": {
    "tags": []
   },
   "outputs": [
    {
     "name": "stdout",
     "output_type": "stream",
     "text": [
      "[5]\n"
     ]
    }
   ],
   "source": [
    "commands = []\n",
    "arr = []\n",
    "for command in inputs:\n",
    "    opCommand, *args = command.split()\n",
    "    if opCommand == \"print\":\n",
    "        print(arr)\n",
    "    else:\n",
    "        exp = ','.join(args)\n",
    "        eval(f'arr.{opCommand}({exp})')"
   ]
  },
  {
   "cell_type": "code",
   "execution_count": 19,
   "id": "2fd91115-de7e-42b2-b106-9e54c521a370",
   "metadata": {
    "tags": []
   },
   "outputs": [
    {
     "data": {
      "text/plain": [
       "[6, 10, 5]"
      ]
     },
     "execution_count": 19,
     "metadata": {},
     "output_type": "execute_result"
    }
   ],
   "source": [
    "arr"
   ]
  },
  {
   "cell_type": "code",
   "execution_count": 20,
   "id": "0238463b-b2f9-423c-9f58-44620579e544",
   "metadata": {
    "tags": []
   },
   "outputs": [
    {
     "data": {
      "text/plain": [
       "'1,10'"
      ]
     },
     "execution_count": 20,
     "metadata": {},
     "output_type": "execute_result"
    }
   ],
   "source": [
    "exp"
   ]
  },
  {
   "cell_type": "code",
   "execution_count": 21,
   "id": "79211001-0c8e-4e8f-aca4-dc4e4a7fe092",
   "metadata": {
    "tags": []
   },
   "outputs": [
    {
     "data": {
      "text/plain": [
       "'insert'"
      ]
     },
     "execution_count": 21,
     "metadata": {},
     "output_type": "execute_result"
    }
   ],
   "source": [
    "opCommand"
   ]
  },
  {
   "cell_type": "code",
   "execution_count": 22,
   "id": "e40f7e4a-dfab-48d6-8381-8720b5728c3b",
   "metadata": {
    "tags": []
   },
   "outputs": [
    {
     "name": "stdout",
     "output_type": "stream",
     "text": [
      "arr.insert(1,10)\n"
     ]
    }
   ],
   "source": [
    "print(f'arr.{opCommand}({exp})')"
   ]
  },
  {
   "cell_type": "code",
   "execution_count": 1,
   "id": "974bfdb4-c5ce-410c-a1aa-e177e746c094",
   "metadata": {},
   "outputs": [
    {
     "name": "stdin",
     "output_type": "stream",
     "text": [
      " 12.00\n",
      " 20\n",
      " 8\n"
     ]
    }
   ],
   "source": [
    "meal_cost = float(input().strip())\n",
    "\n",
    "tip_percent = int(input().strip())\n",
    "\n",
    "tax_percent = int(input().strip())\n"
   ]
  },
  {
   "cell_type": "code",
   "execution_count": 6,
   "id": "806ce7e7-9c96-415c-8d3e-d1afbd634407",
   "metadata": {
    "tags": []
   },
   "outputs": [],
   "source": [
    "tip = meal_cost * (tip_percent / 100)\n",
    "tax = meal_cost * (tax_percent / 100)\n",
    "total_cost = meal_cost + tip + tax"
   ]
  },
  {
   "cell_type": "code",
   "execution_count": 7,
   "id": "78fa9038-b777-4fa7-a1e8-9c56a94968b3",
   "metadata": {
    "tags": []
   },
   "outputs": [
    {
     "data": {
      "text/plain": [
       "15"
      ]
     },
     "execution_count": 7,
     "metadata": {},
     "output_type": "execute_result"
    }
   ],
   "source": [
    "round(total_cost)"
   ]
  },
  {
   "cell_type": "code",
   "execution_count": null,
   "id": "8f4da7ae-0150-4a2d-8672-506f7b0a5bdd",
   "metadata": {},
   "outputs": [],
   "source": []
  },
  {
   "cell_type": "markdown",
   "id": "2bfbd4f8-5f92-44fa-aa19-f5c6df08504b",
   "metadata": {},
   "source": [
    "### list comprehension"
   ]
  },
  {
   "cell_type": "code",
   "execution_count": 9,
   "id": "4fbba31c-67c3-4aca-9f11-f24504312846",
   "metadata": {
    "tags": []
   },
   "outputs": [
    {
     "name": "stdin",
     "output_type": "stream",
     "text": [
      " 2\n",
      " 2\n",
      " 2\n",
      " 2\n"
     ]
    }
   ],
   "source": [
    "x = int(input())\n",
    "y = int(input())\n",
    "z = int(input())\n",
    "n = int(input())"
   ]
  },
  {
   "cell_type": "code",
   "execution_count": 10,
   "id": "9312d9fd-4362-4745-a954-32c6f52148ff",
   "metadata": {
    "tags": []
   },
   "outputs": [],
   "source": [
    "arr = [ [a,b,c] for a in range(x+1) for b in range(y+1) for c in range(z+1) if sum([a,b,c]) != n ]"
   ]
  },
  {
   "cell_type": "markdown",
   "id": "5f97fa30-7656-41a4-bfed-f7c75de3fe44",
   "metadata": {},
   "source": [
    "### runner up score"
   ]
  },
  {
   "cell_type": "code",
   "execution_count": 81,
   "id": "b01495df-b022-4eb4-b666-8e686fcac671",
   "metadata": {
    "tags": []
   },
   "outputs": [
    {
     "name": "stdin",
     "output_type": "stream",
     "text": [
      " 5\n",
      " 2 3 6 6 5\n"
     ]
    }
   ],
   "source": [
    "n = int(input())\n",
    "arr = map(int, input().split())"
   ]
  },
  {
   "cell_type": "code",
   "execution_count": 82,
   "id": "84fb8132-d611-433d-8aea-a133200616ab",
   "metadata": {
    "tags": []
   },
   "outputs": [
    {
     "data": {
      "text/plain": [
       "<map at 0x7f817085bee0>"
      ]
     },
     "execution_count": 82,
     "metadata": {},
     "output_type": "execute_result"
    }
   ],
   "source": [
    "arr"
   ]
  },
  {
   "cell_type": "code",
   "execution_count": 83,
   "id": "37fc4c7b-9418-40be-9a9f-41f114bf6f78",
   "metadata": {
    "tags": []
   },
   "outputs": [],
   "source": [
    "num = list(arr)"
   ]
  },
  {
   "cell_type": "code",
   "execution_count": 85,
   "id": "20d77452-409b-4f18-81d3-1b1ce7aa34f2",
   "metadata": {
    "tags": []
   },
   "outputs": [
    {
     "data": {
      "text/plain": [
       "[6, 6, 5, 3, 2]"
      ]
     },
     "execution_count": 85,
     "metadata": {},
     "output_type": "execute_result"
    }
   ],
   "source": [
    "num.sort(reverse = True)\n",
    "num"
   ]
  },
  {
   "cell_type": "code",
   "execution_count": 55,
   "id": "f6cac155-e92a-48a4-9d71-273ba246573e",
   "metadata": {
    "tags": []
   },
   "outputs": [
    {
     "name": "stdout",
     "output_type": "stream",
     "text": [
      "4\n"
     ]
    }
   ],
   "source": [
    "for i in num:\n",
    "    if max(num) > i:\n",
    "        print(i)\n",
    "        break\n",
    "    else:\n",
    "        i +=1"
   ]
  },
  {
   "cell_type": "code",
   "execution_count": 94,
   "id": "b099ad6f-7669-4f19-9afb-f46318aeee6e",
   "metadata": {
    "tags": []
   },
   "outputs": [],
   "source": [
    "secondMax = [ i if max(num) > i\n",
    "            else 0\n",
    "            for i in num]"
   ]
  },
  {
   "cell_type": "code",
   "execution_count": 96,
   "id": "5727fdd2-e2f0-4f50-bb22-96f534666c1e",
   "metadata": {
    "tags": []
   },
   "outputs": [
    {
     "data": {
      "text/plain": [
       "[0, 0, 5, 3, 2]"
      ]
     },
     "execution_count": 96,
     "metadata": {},
     "output_type": "execute_result"
    }
   ],
   "source": [
    "secondMax"
   ]
  },
  {
   "cell_type": "code",
   "execution_count": 67,
   "id": "196eeec5-5cbe-464f-a4d8-6c9229d5eb25",
   "metadata": {
    "tags": []
   },
   "outputs": [
    {
     "ename": "ValueError",
     "evalue": "max() arg is an empty sequence",
     "output_type": "error",
     "traceback": [
      "\u001b[0;31m---------------------------------------------------------------------------\u001b[0m",
      "\u001b[0;31mValueError\u001b[0m                                Traceback (most recent call last)",
      "\u001b[0;32m/var/folders/x7/g3jn_87d3cldljmb204fyzwm0000gn/T/ipykernel_4502/2660438617.py\u001b[0m in \u001b[0;36m<module>\u001b[0;34m\u001b[0m\n\u001b[0;32m----> 1\u001b[0;31m \u001b[0mmax\u001b[0m\u001b[0;34m(\u001b[0m\u001b[0marr\u001b[0m\u001b[0;34m)\u001b[0m\u001b[0;34m\u001b[0m\u001b[0;34m\u001b[0m\u001b[0m\n\u001b[0m",
      "\u001b[0;31mValueError\u001b[0m: max() arg is an empty sequence"
     ]
    }
   ],
   "source": [
    "max(arr)"
   ]
  },
  {
   "cell_type": "code",
   "execution_count": 68,
   "id": "833967c7-15bf-40df-8ea6-d99968a693af",
   "metadata": {
    "tags": []
   },
   "outputs": [
    {
     "data": {
      "text/plain": [
       "[]"
      ]
     },
     "execution_count": 68,
     "metadata": {},
     "output_type": "execute_result"
    }
   ],
   "source": [
    "a = sorted(arr)\n",
    "a"
   ]
  },
  {
   "cell_type": "code",
   "execution_count": 69,
   "id": "2c150076-d9ed-4810-b926-bdbe45fdb6ba",
   "metadata": {
    "tags": []
   },
   "outputs": [
    {
     "data": {
      "text/plain": [
       "[]"
      ]
     },
     "execution_count": 69,
     "metadata": {},
     "output_type": "execute_result"
    }
   ],
   "source": [
    "a"
   ]
  },
  {
   "cell_type": "code",
   "execution_count": 187,
   "id": "744fbb98-2baf-44ef-a8eb-5638c56cb43a",
   "metadata": {
    "tags": []
   },
   "outputs": [
    {
     "name": "stdin",
     "output_type": "stream",
     "text": [
      " 6\n",
      " Harsh\n",
      " 39\n",
      " Harry\n",
      " 37.1\n",
      " Akriti\n",
      " 40\n",
      " Berry\n",
      " 37.1\n",
      " Tina\n",
      " 37\n",
      " Adi\n",
      " 37\n"
     ]
    }
   ],
   "source": [
    "records = []\n",
    "names = []\n",
    "scores = []\n",
    "\n",
    "for _ in range(int(input())):\n",
    "    name = input()\n",
    "    score = float(input())\n",
    "    names.append(name)\n",
    "    scores.append(score)\n",
    "    records.append([score,name])"
   ]
  },
  {
   "cell_type": "code",
   "execution_count": 188,
   "id": "4b170f3e-f609-4088-8389-cc00855c27ce",
   "metadata": {
    "tags": []
   },
   "outputs": [
    {
     "data": {
      "text/plain": [
       "[[39.0, 'Harsh'],\n",
       " [37.1, 'Harry'],\n",
       " [40.0, 'Akriti'],\n",
       " [37.1, 'Berry'],\n",
       " [37.0, 'Tina'],\n",
       " [37.0, 'Adi']]"
      ]
     },
     "execution_count": 188,
     "metadata": {},
     "output_type": "execute_result"
    }
   ],
   "source": [
    "records"
   ]
  },
  {
   "cell_type": "code",
   "execution_count": 123,
   "id": "4774c1e1-421d-4fbe-8023-aef617221be3",
   "metadata": {
    "tags": []
   },
   "outputs": [
    {
     "name": "stdout",
     "output_type": "stream",
     "text": [
      "20.0\n",
      "21.0\n",
      "21.0\n",
      "30.0\n",
      "35.0\n"
     ]
    }
   ],
   "source": [
    "for i in records:\n",
    "    if i[0] > min(records)[0]:\n",
    "        lowest.append(records[i][1])\n",
    "    else"
   ]
  },
  {
   "cell_type": "code",
   "execution_count": 189,
   "id": "865b0cf7-3486-4af4-b268-1951ccb5ffc8",
   "metadata": {
    "tags": []
   },
   "outputs": [
    {
     "data": {
      "text/plain": [
       "[[37.0, 'Adi'],\n",
       " [37.0, 'Tina'],\n",
       " [37.1, 'Berry'],\n",
       " [37.1, 'Harry'],\n",
       " [39.0, 'Harsh'],\n",
       " [40.0, 'Akriti']]"
      ]
     },
     "execution_count": 189,
     "metadata": {},
     "output_type": "execute_result"
    }
   ],
   "source": [
    "records.sort()\n",
    "records"
   ]
  },
  {
   "cell_type": "code",
   "execution_count": 143,
   "id": "858ab8f7-104a-4ce3-99db-4c2da69eac2b",
   "metadata": {
    "tags": []
   },
   "outputs": [
    {
     "data": {
      "text/plain": [
       "[[21.0, 'Berry'], [21.0, 'Harry'], [30.0, 'Harsh'], [35.0, 'Ark']]"
      ]
     },
     "execution_count": 143,
     "metadata": {},
     "output_type": "execute_result"
    }
   ],
   "source": [
    "records[1:] "
   ]
  },
  {
   "cell_type": "code",
   "execution_count": 144,
   "id": "8e7a1a17-a538-49f0-9e2d-c6637047e980",
   "metadata": {
    "tags": []
   },
   "outputs": [
    {
     "data": {
      "text/plain": [
       "list"
      ]
     },
     "execution_count": 144,
     "metadata": {},
     "output_type": "execute_result"
    }
   ],
   "source": [
    "type(records)"
   ]
  },
  {
   "cell_type": "code",
   "execution_count": 146,
   "id": "b24261e6-c45a-4753-8fc2-4efd499d36e3",
   "metadata": {
    "tags": []
   },
   "outputs": [
    {
     "data": {
      "text/plain": [
       "[20.0, 'Tina']"
      ]
     },
     "execution_count": 146,
     "metadata": {},
     "output_type": "execute_result"
    }
   ],
   "source": [
    "min(records)"
   ]
  },
  {
   "cell_type": "code",
   "execution_count": 153,
   "id": "95901f05-bbdf-4d8b-bb03-53236461e737",
   "metadata": {
    "tags": []
   },
   "outputs": [
    {
     "data": {
      "text/plain": [
       "2"
      ]
     },
     "execution_count": 153,
     "metadata": {},
     "output_type": "execute_result"
    }
   ],
   "source": [
    "scores.index(min(scores))"
   ]
  },
  {
   "cell_type": "code",
   "execution_count": 169,
   "id": "99df8201-f525-4543-8097-a9fbf0c98e7c",
   "metadata": {
    "tags": []
   },
   "outputs": [],
   "source": [
    "for i in range(n):\n",
    "    if records[i][0] > min(records)[0] and records[i][0] > records[i+1][0]:\n",
    "        print(records[i][1])\n",
    "    i+=1"
   ]
  },
  {
   "cell_type": "code",
   "execution_count": 167,
   "id": "915dd7f7-e81a-4efc-ae21-6fef15ee0e92",
   "metadata": {
    "tags": []
   },
   "outputs": [],
   "source": [
    "records.sort()"
   ]
  },
  {
   "cell_type": "code",
   "execution_count": 170,
   "id": "695cc3b4-0e81-434e-aa64-3d75595c2f7b",
   "metadata": {
    "tags": []
   },
   "outputs": [
    {
     "data": {
      "text/plain": [
       "[[1.0, 'Li'], [1.0, 'Lu'], [2.0, 'Le'], [2.0, 'Lo'], [3.0, 'La'], [4.0, 'L']]"
      ]
     },
     "execution_count": 170,
     "metadata": {},
     "output_type": "execute_result"
    }
   ],
   "source": [
    "records"
   ]
  },
  {
   "cell_type": "code",
   "execution_count": 183,
   "id": "826b9fc2-6e00-4801-a887-aac19ad762a3",
   "metadata": {
    "tags": []
   },
   "outputs": [
    {
     "name": "stdout",
     "output_type": "stream",
     "text": [
      "Le\n",
      "Lo\n"
     ]
    }
   ],
   "source": [
    "for i in range(n):\n",
    "    if records[i][0] - min(records)[0] > 0 and records[i][0] == records[i+1][0]:\n",
    "        print(records[i][1])\n",
    "        print(records[i+1][1])\n",
    "    else:\n",
    "        i +=1       "
   ]
  },
  {
   "cell_type": "code",
   "execution_count": 184,
   "id": "f4c2f070-da30-4e67-9940-edfc4bf341a4",
   "metadata": {
    "tags": []
   },
   "outputs": [
    {
     "data": {
      "text/plain": [
       "[[1.0, 'Li'], [1.0, 'Lu'], [2.0, 'Le'], [2.0, 'Lo'], [3.0, 'La'], [4.0, 'L']]"
      ]
     },
     "execution_count": 184,
     "metadata": {},
     "output_type": "execute_result"
    }
   ],
   "source": [
    "records"
   ]
  },
  {
   "cell_type": "code",
   "execution_count": 205,
   "id": "8eda585f-9dba-48df-a74e-0609323b0d81",
   "metadata": {
    "tags": []
   },
   "outputs": [
    {
     "name": "stdout",
     "output_type": "stream",
     "text": [
      "Berry\n",
      "Harry\n"
     ]
    }
   ],
   "source": [
    "for i in range(len(records)):\n",
    "    for j in range(1, len(records)):\n",
    "        #print( records[i] , records[j])\n",
    "        if records[i][0] > min(records)[0] and records[i][0] == records[i+1][0]:\n",
    "            print(records[i][1])\n",
    "            print(records[i+1][1])\n",
    "        i +=1\n",
    "    break"
   ]
  },
  {
   "cell_type": "code",
   "execution_count": 202,
   "id": "d9c83bf2-41b6-41e8-b3d3-412d3cbdb2fc",
   "metadata": {
    "tags": []
   },
   "outputs": [
    {
     "data": {
      "text/plain": [
       "[[37.0, 'Adi'],\n",
       " [37.0, 'Tina'],\n",
       " [37.1, 'Berry'],\n",
       " [37.1, 'Harry'],\n",
       " [39.0, 'Harsh'],\n",
       " [40.0, 'Akriti']]"
      ]
     },
     "execution_count": 202,
     "metadata": {},
     "output_type": "execute_result"
    }
   ],
   "source": [
    "records"
   ]
  },
  {
   "cell_type": "code",
   "execution_count": 212,
   "id": "77212911-11c4-4fd9-a0de-8d7d2e85de72",
   "metadata": {
    "tags": []
   },
   "outputs": [
    {
     "name": "stdin",
     "output_type": "stream",
     "text": [
      " 5\n",
      " Tina\n",
      " 37.2\n",
      " Harry\n",
      " 37.1\n",
      " Berry\n",
      " 37.1\n",
      " Ark\n",
      " 39\n",
      " Harsh\n",
      " 40\n"
     ]
    },
    {
     "name": "stdout",
     "output_type": "stream",
     "text": [
      "Tina\n"
     ]
    }
   ],
   "source": [
    "studs = {}\n",
    "for _ in range(int(input())):\n",
    "    name = input()\n",
    "    score = float(input())\n",
    "    try:\n",
    "        studs[score].append(name)\n",
    "    except:\n",
    "        studs[score] = [name]"
   ]
  },
  {
   "cell_type": "code",
   "execution_count": 213,
   "id": "14e97602-1e81-47ae-a067-3e743f26a07e",
   "metadata": {
    "tags": []
   },
   "outputs": [
    {
     "name": "stdout",
     "output_type": "stream",
     "text": [
      "Tina\n"
     ]
    }
   ],
   "source": [
    "scores = sorted([score for score in studs.keys()])\n",
    "print(*sorted(studs[scores[1]]), sep='\\n')"
   ]
  },
  {
   "cell_type": "code",
   "execution_count": 225,
   "id": "95c4bca9-bb60-4c72-8279-791364af32cd",
   "metadata": {
    "tags": []
   },
   "outputs": [
    {
     "name": "stdin",
     "output_type": "stream",
     "text": [
      " 5\n",
      " 2 3 6 6 5\n"
     ]
    }
   ],
   "source": [
    "n = int(input())\n",
    "arr = map(int, input().split())"
   ]
  },
  {
   "cell_type": "code",
   "execution_count": 226,
   "id": "55753af5-c92b-4c2d-8cd9-979379061c1d",
   "metadata": {
    "tags": []
   },
   "outputs": [],
   "source": [
    "num = list(arr)"
   ]
  },
  {
   "cell_type": "code",
   "execution_count": 247,
   "id": "0dfcdacc-2f92-4b7d-96b1-376b7d7ec81b",
   "metadata": {
    "tags": []
   },
   "outputs": [
    {
     "data": {
      "text/plain": [
       "[6, 5, 3, 2]"
      ]
     },
     "execution_count": 247,
     "metadata": {},
     "output_type": "execute_result"
    }
   ],
   "source": [
    "scores = sorted([n for n in set(num)], reverse = True)\n",
    "scores"
   ]
  },
  {
   "cell_type": "code",
   "execution_count": 249,
   "id": "842199e6-0c94-4874-98f9-26e4955a88d0",
   "metadata": {
    "tags": []
   },
   "outputs": [
    {
     "data": {
      "text/plain": [
       "5"
      ]
     },
     "execution_count": 249,
     "metadata": {},
     "output_type": "execute_result"
    }
   ],
   "source": [
    "num[num.index(scores[1])]"
   ]
  },
  {
   "cell_type": "code",
   "execution_count": 236,
   "id": "5d4478ea-89e5-4919-aa6a-5cbe111f130d",
   "metadata": {
    "tags": []
   },
   "outputs": [
    {
     "data": {
      "text/plain": [
       "list"
      ]
     },
     "execution_count": 236,
     "metadata": {},
     "output_type": "execute_result"
    }
   ],
   "source": [
    "type(scores)"
   ]
  },
  {
   "cell_type": "code",
   "execution_count": 237,
   "id": "bd8391c6-16e2-4ef5-ae42-db661a41da65",
   "metadata": {
    "tags": []
   },
   "outputs": [
    {
     "data": {
      "text/plain": [
       "type"
      ]
     },
     "execution_count": 237,
     "metadata": {},
     "output_type": "execute_result"
    }
   ],
   "source": [
    "type(list)"
   ]
  },
  {
   "cell_type": "code",
   "execution_count": 256,
   "id": "ec4671d0-fd93-489b-b6bc-a772dd8a2673",
   "metadata": {
    "tags": []
   },
   "outputs": [
    {
     "name": "stdin",
     "output_type": "stream",
     "text": [
      " 3\n",
      " Krishna 67 68 69\n",
      " Arjun 70 98 63\n",
      " Malika 52 56 60\n",
      " Malika\n"
     ]
    }
   ],
   "source": [
    "n = int(input())\n",
    "student_marks = {}\n",
    "for _ in range(n):\n",
    "    name, *line = input().split()\n",
    "    scores = list(map(float, line))\n",
    "    student_marks[name] = scores\n",
    "query_name = input()"
   ]
  },
  {
   "cell_type": "code",
   "execution_count": 251,
   "id": "a078b911-22f7-455f-9026-0f4020ee70d2",
   "metadata": {
    "tags": []
   },
   "outputs": [
    {
     "data": {
      "text/plain": [
       "{'Krishna': [67.0, 68.0, 69.0],\n",
       " 'Arjun': [70.0, 98.0, 63.0],\n",
       " 'Malika': [52.0, 56.0, 60.0]}"
      ]
     },
     "execution_count": 251,
     "metadata": {},
     "output_type": "execute_result"
    }
   ],
   "source": [
    "student_marks"
   ]
  },
  {
   "cell_type": "code",
   "execution_count": 252,
   "id": "6e8d1215-149b-47a1-a2f0-080de05f72b1",
   "metadata": {
    "tags": []
   },
   "outputs": [
    {
     "data": {
      "text/plain": [
       "dict"
      ]
     },
     "execution_count": 252,
     "metadata": {},
     "output_type": "execute_result"
    }
   ],
   "source": [
    "type(student_marks)"
   ]
  },
  {
   "cell_type": "code",
   "execution_count": 262,
   "id": "4c4b19e2-cf39-4323-b27f-b11fc2b02348",
   "metadata": {
    "tags": []
   },
   "outputs": [
    {
     "data": {
      "text/plain": [
       "56.0"
      ]
     },
     "execution_count": 262,
     "metadata": {},
     "output_type": "execute_result"
    }
   ],
   "source": [
    "from statistics import mean\n",
    "mean(student_marks[query_name])"
   ]
  },
  {
   "cell_type": "code",
   "execution_count": 5,
   "id": "b53ff69b-1e1c-4206-a6bb-4cc20629c61c",
   "metadata": {},
   "outputs": [
    {
     "data": {
      "text/plain": [
       "'Love'"
      ]
     },
     "execution_count": 5,
     "metadata": {},
     "output_type": "execute_result"
    }
   ],
   "source": [
    "'lOve'.title()"
   ]
  },
  {
   "cell_type": "code",
   "execution_count": 3,
   "id": "f93005dc-0fa5-4dac-a82d-326e26202ea3",
   "metadata": {
    "tags": []
   },
   "outputs": [],
   "source": [
    "import string"
   ]
  },
  {
   "cell_type": "code",
   "execution_count": 7,
   "id": "8fc4e55a-613b-4fb0-a0fa-d66c6ec72b8d",
   "metadata": {
    "tags": []
   },
   "outputs": [],
   "source": [
    "s1 = 'Www.HackerRank.com'\n",
    "s2 = 'Pythonist 2'"
   ]
  },
  {
   "cell_type": "code",
   "execution_count": 8,
   "id": "22939d80-7a1b-4a39-a61f-7199ea8a0fef",
   "metadata": {
    "tags": []
   },
   "outputs": [
    {
     "data": {
      "text/plain": [
       "'wWW.hACKERrANK.COM'"
      ]
     },
     "execution_count": 8,
     "metadata": {},
     "output_type": "execute_result"
    }
   ],
   "source": [
    "s1.swapcase()"
   ]
  },
  {
   "cell_type": "code",
   "execution_count": 9,
   "id": "49e2bd56-102e-4c2b-b13d-1369ef5e68fa",
   "metadata": {
    "tags": []
   },
   "outputs": [],
   "source": [
    "s1 = 'this is a string'"
   ]
  },
  {
   "cell_type": "code",
   "execution_count": 14,
   "id": "09e3c40a-62d9-4feb-a51e-559176bf6fda",
   "metadata": {
    "tags": []
   },
   "outputs": [
    {
     "data": {
      "text/plain": [
       "'this-is-a-string'"
      ]
     },
     "execution_count": 14,
     "metadata": {},
     "output_type": "execute_result"
    }
   ],
   "source": [
    "s1 = s1.split(\" \")\n",
    "s1 = '-'.join(s1)\n",
    "s1"
   ]
  },
  {
   "cell_type": "code",
   "execution_count": 15,
   "id": "b9519803-b0a6-4e6b-8bb3-78ac77d1f008",
   "metadata": {
    "tags": []
   },
   "outputs": [
    {
     "name": "stdin",
     "output_type": "stream",
     "text": [
      " Lianne\n",
      " Lelis\n"
     ]
    }
   ],
   "source": [
    "first_name = input()\n",
    "last_name = input()"
   ]
  },
  {
   "cell_type": "code",
   "execution_count": 17,
   "id": "c8795fed-79e4-4631-9e88-bffc42d0243b",
   "metadata": {
    "tags": []
   },
   "outputs": [
    {
     "name": "stdout",
     "output_type": "stream",
     "text": [
      "Hello Lianne Lelis You just delved into python.\n"
     ]
    }
   ],
   "source": [
    "print(f'Hello {first_name} {last_name}! You just delved into python.')"
   ]
  },
  {
   "cell_type": "code",
   "execution_count": 18,
   "id": "75a60e44-15d0-4623-ad63-ed43eb8f04ef",
   "metadata": {
    "tags": []
   },
   "outputs": [
    {
     "name": "stdin",
     "output_type": "stream",
     "text": [
      " abracadabra\n",
      " 5 k\n"
     ]
    }
   ],
   "source": [
    "    s = input()\n",
    "    i, c = input().split()\n"
   ]
  },
  {
   "cell_type": "code",
   "execution_count": 19,
   "id": "2882afd6-37a1-45b4-a7d1-02383214c398",
   "metadata": {
    "tags": []
   },
   "outputs": [
    {
     "data": {
      "text/plain": [
       "'abracadabra'"
      ]
     },
     "execution_count": 19,
     "metadata": {},
     "output_type": "execute_result"
    }
   ],
   "source": [
    "s"
   ]
  },
  {
   "cell_type": "code",
   "execution_count": 32,
   "id": "9ca0254e-b91b-4e5d-a17a-d88e30b55a29",
   "metadata": {
    "tags": []
   },
   "outputs": [
    {
     "data": {
      "text/plain": [
       "'abrackdabra'"
      ]
     },
     "execution_count": 32,
     "metadata": {},
     "output_type": "execute_result"
    }
   ],
   "source": [
    "new = s[:i] + c + s[i+1:]\n",
    "new"
   ]
  },
  {
   "cell_type": "code",
   "execution_count": 21,
   "id": "baac8337-7fdf-4565-827c-e7ebf95d9bd2",
   "metadata": {
    "tags": []
   },
   "outputs": [
    {
     "data": {
      "text/plain": [
       "module"
      ]
     },
     "execution_count": 21,
     "metadata": {},
     "output_type": "execute_result"
    }
   ],
   "source": [
    "type(string)"
   ]
  },
  {
   "cell_type": "code",
   "execution_count": 23,
   "id": "ba8b2475-5f5f-4970-8e42-1cca4c561f6f",
   "metadata": {
    "tags": []
   },
   "outputs": [
    {
     "data": {
      "text/plain": [
       "'5'"
      ]
     },
     "execution_count": 23,
     "metadata": {},
     "output_type": "execute_result"
    }
   ],
   "source": [
    "i"
   ]
  },
  {
   "cell_type": "code",
   "execution_count": 31,
   "id": "01fb65d7-99a8-42c3-9f0a-624a1d7993f5",
   "metadata": {
    "tags": []
   },
   "outputs": [],
   "source": [
    "i = int(i)"
   ]
  },
  {
   "cell_type": "code",
   "execution_count": 27,
   "id": "a06d0671-5080-4f81-ae0e-e2019ec673bd",
   "metadata": {
    "tags": []
   },
   "outputs": [
    {
     "data": {
      "text/plain": [
       "'5'"
      ]
     },
     "execution_count": 27,
     "metadata": {},
     "output_type": "execute_result"
    }
   ],
   "source": [
    "i"
   ]
  },
  {
   "cell_type": "code",
   "execution_count": 33,
   "id": "56faea33-5a40-4b5a-87ed-58a549e313cd",
   "metadata": {
    "tags": []
   },
   "outputs": [
    {
     "ename": "SyntaxError",
     "evalue": "EOL while scanning string literal (1609709921.py, line 1)",
     "output_type": "error",
     "traceback": [
      "\u001b[0;36m  File \u001b[0;32m\"/var/folders/x7/g3jn_87d3cldljmb204fyzwm0000gn/T/ipykernel_1813/1609709921.py\"\u001b[0;36m, line \u001b[0;32m1\u001b[0m\n\u001b[0;31m    count('Hello' in 'Hello World_)\u001b[0m\n\u001b[0m                                   ^\u001b[0m\n\u001b[0;31mSyntaxError\u001b[0m\u001b[0;31m:\u001b[0m EOL while scanning string literal\n"
     ]
    }
   ],
   "source": [
    "count('Hello' in 'Hello World_)"
   ]
  },
  {
   "cell_type": "code",
   "execution_count": 34,
   "id": "edf3d07d-0b2c-4b52-b8dc-d2a23ebf4eb2",
   "metadata": {
    "tags": []
   },
   "outputs": [
    {
     "data": {
      "text/plain": [
       "str"
      ]
     },
     "execution_count": 34,
     "metadata": {},
     "output_type": "execute_result"
    }
   ],
   "source": [
    "type(s2)"
   ]
  },
  {
   "cell_type": "code",
   "execution_count": 37,
   "id": "65bdfe3a-3ea2-49bf-b935-0f04d1302143",
   "metadata": {
    "tags": []
   },
   "outputs": [
    {
     "data": {
      "text/plain": [
       "3"
      ]
     },
     "execution_count": 37,
     "metadata": {},
     "output_type": "execute_result"
    }
   ],
   "source": [
    "'ABCDCDC'.count('C')"
   ]
  },
  {
   "cell_type": "code",
   "execution_count": 38,
   "id": "a5bca099-9e77-4e48-8dec-3f5e9de30d74",
   "metadata": {
    "tags": []
   },
   "outputs": [],
   "source": [
    "import re"
   ]
  },
  {
   "cell_type": "code",
   "execution_count": 41,
   "id": "28c2db4a-ae4d-4522-b06d-bc69fc4b94cb",
   "metadata": {
    "tags": []
   },
   "outputs": [
    {
     "data": {
      "text/plain": [
       "1"
      ]
     },
     "execution_count": 41,
     "metadata": {},
     "output_type": "execute_result"
    }
   ],
   "source": [
    "len(re.findall('CDC', 'ABCDCDC'))"
   ]
  },
  {
   "cell_type": "code",
   "execution_count": 68,
   "id": "f6a79c7f-9d17-4a2c-ab31-1ef99adee267",
   "metadata": {
    "tags": []
   },
   "outputs": [],
   "source": [
    "a= 'ABCDCDC'\n",
    "sub = 'CDC'\n",
    "c= '12abc hello world'\n",
    "c = 'q w e r t y u i o p a s d f g h j  k l z x c v b n m Q W E R T Y U I O P A S D F G H J  K L Z X C V B N M'"
   ]
  },
  {
   "cell_type": "code",
   "execution_count": 61,
   "id": "a2403002-85df-4b07-b443-312176fc366c",
   "metadata": {
    "tags": []
   },
   "outputs": [
    {
     "data": {
      "text/plain": [
       "2"
      ]
     },
     "execution_count": 61,
     "metadata": {},
     "output_type": "execute_result"
    }
   ],
   "source": [
    "n = 0\n",
    "for i in range(len(a)):\n",
    "    if sub == a[i:len(sub)+i]:\n",
    "        n +=1\n",
    "n"
   ]
  },
  {
   "cell_type": "code",
   "execution_count": 63,
   "id": "4914d935-fcba-4e9a-84c8-3bc22f740799",
   "metadata": {
    "tags": []
   },
   "outputs": [
    {
     "data": {
      "text/plain": [
       "'12abc'"
      ]
     },
     "execution_count": 63,
     "metadata": {},
     "output_type": "execute_result"
    }
   ],
   "source": [
    "'12abc'.capitalize()"
   ]
  },
  {
   "cell_type": "code",
   "execution_count": 70,
   "id": "accc1788-7b91-444f-a59f-ac06e0fabc3e",
   "metadata": {
    "tags": []
   },
   "outputs": [
    {
     "data": {
      "text/plain": [
       "'Q W E R T Y U I O P A S D F G H J  K L Z X C V B N M Q W E R T Y U I O P A S D F G H J  K L Z X C V B N M'"
      ]
     },
     "execution_count": 70,
     "metadata": {},
     "output_type": "execute_result"
    }
   ],
   "source": [
    "' '.join(char.capitalize() for char in c.split(sep = ' '))"
   ]
  },
  {
   "cell_type": "code",
   "execution_count": 74,
   "id": "5e008cfb-5a31-4f6f-b481-32120512e310",
   "metadata": {
    "tags": []
   },
   "outputs": [],
   "source": [
    "import numpy as np\n",
    "arr = [1, 2, 3, 4, -8, -10]"
   ]
  },
  {
   "cell_type": "code",
   "execution_count": 82,
   "id": "82b26c5f-b13f-4578-8d53-1b9877aefbc4",
   "metadata": {
    "tags": []
   },
   "outputs": [
    {
     "ename": "TypeError",
     "evalue": "float() argument must be a string or a number, not 'list'",
     "output_type": "error",
     "traceback": [
      "\u001b[0;31m---------------------------------------------------------------------------\u001b[0m",
      "\u001b[0;31mTypeError\u001b[0m                                 Traceback (most recent call last)",
      "\u001b[0;32m/var/folders/x7/g3jn_87d3cldljmb204fyzwm0000gn/T/ipykernel_1813/4048577537.py\u001b[0m in \u001b[0;36m<module>\u001b[0;34m\u001b[0m\n\u001b[1;32m      1\u001b[0m \u001b[0mnArr\u001b[0m \u001b[0;34m=\u001b[0m \u001b[0mnp\u001b[0m\u001b[0;34m.\u001b[0m\u001b[0marray\u001b[0m\u001b[0;34m(\u001b[0m\u001b[0marr\u001b[0m\u001b[0;34m,\u001b[0m \u001b[0mfloat\u001b[0m\u001b[0;34m)\u001b[0m\u001b[0;34m\u001b[0m\u001b[0;34m\u001b[0m\u001b[0m\n\u001b[0;32m----> 2\u001b[0;31m \u001b[0mb\u001b[0m \u001b[0;34m=\u001b[0m \u001b[0mfloat\u001b[0m\u001b[0;34m(\u001b[0m\u001b[0msorted\u001b[0m\u001b[0;34m(\u001b[0m\u001b[0mnArr\u001b[0m\u001b[0;34m)\u001b[0m\u001b[0;34m)\u001b[0m\u001b[0;34m\u001b[0m\u001b[0;34m\u001b[0m\u001b[0m\n\u001b[0m",
      "\u001b[0;31mTypeError\u001b[0m: float() argument must be a string or a number, not 'list'"
     ]
    }
   ],
   "source": [
    "nArr = np.array(arr, float)\n",
    "b = (sorted(nArr))"
   ]
  },
  {
   "cell_type": "code",
   "execution_count": 81,
   "id": "0e0feb4e-affd-46e5-b52c-5fa63b85b489",
   "metadata": {
    "tags": []
   },
   "outputs": [
    {
     "data": {
      "text/plain": [
       "[-10.0, -8.0, 1.0, 2.0, 3.0, 4.0]"
      ]
     },
     "execution_count": 81,
     "metadata": {},
     "output_type": "execute_result"
    }
   ],
   "source": [
    "b"
   ]
  },
  {
   "cell_type": "code",
   "execution_count": null,
   "id": "037d77e3-4960-45ef-85d6-df4ac78d5c72",
   "metadata": {},
   "outputs": [],
   "source": []
  },
  {
   "cell_type": "markdown",
   "id": "cc35b39d-62a2-4ea6-b71c-5aab40d696d2",
   "metadata": {
    "tags": []
   },
   "source": [
    "### Scratch"
   ]
  },
  {
   "cell_type": "code",
   "execution_count": 111,
   "id": "801dbf71-e50b-401e-bd6a-86063bacea84",
   "metadata": {
    "tags": []
   },
   "outputs": [],
   "source": [
    "n = 5"
   ]
  },
  {
   "cell_type": "code",
   "execution_count": 116,
   "id": "f19f6572-5315-4615-9c33-3fa6d8466f4d",
   "metadata": {
    "tags": []
   },
   "outputs": [
    {
     "name": "stdout",
     "output_type": "stream",
     "text": [
      "12345"
     ]
    }
   ],
   "source": [
    "for i in range(1, n+1):\n",
    "    print(i, end='')"
   ]
  },
  {
   "cell_type": "code",
   "execution_count": 121,
   "id": "e73fa382-7391-4f07-bfe1-6903d5dd35ae",
   "metadata": {
    "tags": []
   },
   "outputs": [],
   "source": [
    "year = 1900"
   ]
  },
  {
   "cell_type": "code",
   "execution_count": 122,
   "id": "732adefc-0db1-49f7-8be3-55ee4d40e3cd",
   "metadata": {
    "tags": []
   },
   "outputs": [
    {
     "name": "stdout",
     "output_type": "stream",
     "text": [
      "False\n"
     ]
    }
   ],
   "source": [
    "if year%400 == 0:\n",
    "    leap = True)\n",
    "elif year%100 == 0:\n",
    "    print(False)\n",
    "elif year%4 == 0:\n",
    "    print(True)"
   ]
  },
  {
   "cell_type": "code",
   "execution_count": 136,
   "id": "969eba75-244e-4623-b6c6-407f76cbda1a",
   "metadata": {
    "tags": []
   },
   "outputs": [
    {
     "name": "stdin",
     "output_type": "stream",
     "text": [
      " 5\n",
      " 1 2 3 4 7\n"
     ]
    }
   ],
   "source": [
    "n = int(input()) \n",
    "integer = map(int, input().split())"
   ]
  },
  {
   "cell_type": "code",
   "execution_count": null,
   "id": "70f2d6d2-0e10-4973-baab-ac629230cd7d",
   "metadata": {
    "tags": []
   },
   "outputs": [],
   "source": [
    "hast(t)"
   ]
  },
  {
   "cell_type": "code",
   "execution_count": 133,
   "id": "69bef5cd-22f5-45a1-9cb1-efbab3e496aa",
   "metadata": {
    "tags": []
   },
   "outputs": [],
   "source": [
    "t = tuple(integer_list)"
   ]
  },
  {
   "cell_type": "code",
   "execution_count": 127,
   "id": "b87a9242-41af-4509-95d1-df8ab5bf8402",
   "metadata": {
    "tags": []
   },
   "outputs": [
    {
     "data": {
      "text/plain": [
       "-3550055125485641917"
      ]
     },
     "execution_count": 127,
     "metadata": {},
     "output_type": "execute_result"
    }
   ],
   "source": [
    "hash(t)"
   ]
  },
  {
   "cell_type": "code",
   "execution_count": 134,
   "id": "7a0de4ee-ace1-433e-820d-4b2a2d869fa0",
   "metadata": {
    "tags": []
   },
   "outputs": [
    {
     "data": {
      "text/plain": [
       "(1, 2, 3)"
      ]
     },
     "execution_count": 134,
     "metadata": {},
     "output_type": "execute_result"
    }
   ],
   "source": [
    "t"
   ]
  },
  {
   "cell_type": "code",
   "execution_count": 137,
   "id": "1ca24482-74d9-4a95-b533-df9daa058d88",
   "metadata": {
    "tags": []
   },
   "outputs": [
    {
     "data": {
      "text/plain": [
       "<map at 0x7f8b78012fd0>"
      ]
     },
     "execution_count": 137,
     "metadata": {},
     "output_type": "execute_result"
    }
   ],
   "source": [
    "integer"
   ]
  },
  {
   "cell_type": "code",
   "execution_count": 3,
   "id": "9d3a020d-4227-4919-bc6e-e64b5f5178b1",
   "metadata": {},
   "outputs": [
    {
     "name": "stdout",
     "output_type": "stream",
     "text": [
      "1 1 2\n",
      "1 2 3\n",
      "1 3 4\n",
      "1 4 5\n",
      "1 5 6\n",
      "1 6 7\n",
      "2 1 3\n",
      "2 2 4\n",
      "2 3 5\n",
      "2 4 6\n",
      "2 5 7\n",
      "2 6 8\n",
      "3 1 4\n",
      "3 2 5\n",
      "3 3 6\n",
      "3 4 7\n",
      "3 5 8\n",
      "3 6 9\n",
      "4 1 5\n",
      "4 2 6\n",
      "4 3 7\n",
      "4 4 8\n",
      "4 5 9\n",
      "4 6 10\n",
      "5 1 6\n",
      "5 2 7\n",
      "5 3 8\n",
      "5 4 9\n",
      "5 5 10\n",
      "5 6 11\n",
      "6 1 7\n",
      "6 2 8\n",
      "6 3 9\n",
      "6 4 10\n",
      "6 5 11\n",
      "6 6 12\n"
     ]
    }
   ],
   "source": [
    "k = 0\n",
    "for i in range(1,7):\n",
    "    for j in range(1,7):\n",
    "        print(i , j , i+j)\n",
    "        k +=1"
   ]
  },
  {
   "cell_type": "code",
   "execution_count": 4,
   "id": "ba80500b-382c-48e5-b5f3-7a4c9f3f8c26",
   "metadata": {
    "tags": []
   },
   "outputs": [
    {
     "data": {
      "text/plain": [
       "36"
      ]
     },
     "execution_count": 4,
     "metadata": {},
     "output_type": "execute_result"
    }
   ],
   "source": [
    "k"
   ]
  },
  {
   "cell_type": "code",
   "execution_count": 5,
   "id": "52de54f4-4739-4052-92a5-0dc52a0a457f",
   "metadata": {
    "tags": []
   },
   "outputs": [
    {
     "data": {
      "text/plain": [
       "24"
      ]
     },
     "execution_count": 5,
     "metadata": {},
     "output_type": "execute_result"
    }
   ],
   "source": [
    "7 + 9 + 8"
   ]
  },
  {
   "cell_type": "code",
   "execution_count": 6,
   "id": "4a90dae7-2313-4a07-90e8-cf709502491e",
   "metadata": {
    "tags": []
   },
   "outputs": [
    {
     "data": {
      "text/plain": [
       "((0.25, 0.3333333333333333),)"
      ]
     },
     "execution_count": 6,
     "metadata": {},
     "output_type": "execute_result"
    }
   ],
   "source": [
    "(1/4 , 1/3) , "
   ]
  }
 ],
 "metadata": {
  "kernelspec": {
   "display_name": "sandboxDS",
   "language": "python",
   "name": "sandboxds"
  },
  "language_info": {
   "codemirror_mode": {
    "name": "ipython",
    "version": 3
   },
   "file_extension": ".py",
   "mimetype": "text/x-python",
   "name": "python",
   "nbconvert_exporter": "python",
   "pygments_lexer": "ipython3",
   "version": "3.9.13"
  }
 },
 "nbformat": 4,
 "nbformat_minor": 5
}
