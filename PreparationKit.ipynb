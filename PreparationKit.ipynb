{
 "cells": [
  {
   "cell_type": "code",
   "execution_count": null,
   "id": "01794942-7dfe-4edf-a803-c49dd7b404ae",
   "metadata": {},
   "outputs": [],
   "source": []
  },
  {
   "cell_type": "markdown",
   "id": "6ab9d1be-c880-4573-85a8-cb94b8830902",
   "metadata": {
    "tags": []
   },
   "source": [
    "# Week 1"
   ]
  },
  {
   "cell_type": "markdown",
   "id": "e263c8a2-e948-4ec8-b7e0-140596c9e18a",
   "metadata": {
    "tags": []
   },
   "source": [
    "### Plus Minus"
   ]
  },
  {
   "cell_type": "code",
   "execution_count": 1,
   "id": "cb722053-f398-487a-988e-cd2a1a6e8e43",
   "metadata": {
    "tags": []
   },
   "outputs": [],
   "source": [
    "import math\n",
    "import os\n",
    "import random\n",
    "import re\n",
    "import sys"
   ]
  },
  {
   "cell_type": "code",
   "execution_count": 186,
   "id": "acbc8e05-8948-4aca-ad89-3446fbdcf7da",
   "metadata": {
    "tags": []
   },
   "outputs": [
    {
     "name": "stdin",
     "output_type": "stream",
     "text": [
      " 6\n",
      " -4 3 -9 0 4 1\n"
     ]
    }
   ],
   "source": [
    "n = int(input().strip())\n",
    "arr = list(map(int, input().rstrip().split()))\n",
    "\n",
    "#n = 6\n",
    "#arr = [ -4, 3, -9, 0, 4, 1]"
   ]
  },
  {
   "cell_type": "code",
   "execution_count": 187,
   "id": "034c8372-1404-4be9-b9f9-51396caa6587",
   "metadata": {
    "tags": []
   },
   "outputs": [
    {
     "name": "stdout",
     "output_type": "stream",
     "text": [
      "0.500000\n",
      "0.333333\n",
      "0.166667\n"
     ]
    }
   ],
   "source": [
    "def plusMinus(arr):\n",
    "    c = 0\n",
    "    p = 0\n",
    "    n = 0\n",
    "    z = 0\n",
    "\n",
    "    for i in arr:\n",
    "        c +=1\n",
    "        if i == 0:\n",
    "            z +=1\n",
    "        elif i > 0:\n",
    "            p +=1\n",
    "        elif i < 0:\n",
    "            n +=1\n",
    "    \n",
    "    print(\"{:.6f}\".format(p/c))\n",
    "    print(\"{:.6f}\".format(n/c))\n",
    "    print(\"{:.6f}\".format(z/c))\n",
    "\n",
    "plusMinus(arr)"
   ]
  },
  {
   "cell_type": "markdown",
   "id": "ba4800b1-b84e-4147-be3b-156781708420",
   "metadata": {
    "tags": []
   },
   "source": [
    "### Mini-Max Sum"
   ]
  },
  {
   "cell_type": "code",
   "execution_count": 89,
   "id": "cda763a8-c93c-4723-adc9-ccd52e36deb4",
   "metadata": {
    "tags": []
   },
   "outputs": [],
   "source": [
    "n = int(input().strip())\n",
    "arr = list(map(int, input().rstrip().split()))"
   ]
  },
  {
   "cell_type": "code",
   "execution_count": 188,
   "id": "e872e461-fc53-4ffc-a7cb-f9f968fd276f",
   "metadata": {
    "tags": []
   },
   "outputs": [],
   "source": [
    "def miniMaxSum(arr):\n",
    "    arr.sort()\n",
    "\n",
    "    minSum = sum(arr[:-1])\n",
    "    maxSum = sum(arr[1:])\n",
    "\n",
    "    print(minSum, maxSum)"
   ]
  },
  {
   "cell_type": "code",
   "execution_count": 189,
   "id": "c063e382-f0fd-4cf4-a28b-52b3ac0d5ba2",
   "metadata": {
    "tags": []
   },
   "outputs": [
    {
     "name": "stdout",
     "output_type": "stream",
     "text": [
      "-9 4\n"
     ]
    }
   ],
   "source": [
    "miniMaxSum(arr)"
   ]
  },
  {
   "cell_type": "markdown",
   "id": "f212befc-7210-4531-bea0-73ca40e751e8",
   "metadata": {
    "tags": []
   },
   "source": [
    "### Time Conversion"
   ]
  },
  {
   "cell_type": "code",
   "execution_count": 91,
   "id": "f9882ba0-4ab3-4204-a9a6-9d12a89f87e2",
   "metadata": {
    "tags": []
   },
   "outputs": [],
   "source": [
    "# s = input()\n",
    "s = '02:05:45PM'"
   ]
  },
  {
   "cell_type": "code",
   "execution_count": 92,
   "id": "25e1da6f-fb26-4a8b-a2a4-9e658466531b",
   "metadata": {
    "tags": []
   },
   "outputs": [],
   "source": [
    "def timeConversion(s):\n",
    "    if s[-2:] == \"AM\" and s[:2] == \"12\":\n",
    "        return \"00\" + s[2:-2]\n",
    "    elif s[-2:] == \"AM\":\n",
    "        return s[:-2]\n",
    "\n",
    "    elif s[-2:] == \"PM\" and s[:2] == \"12\":\n",
    "        return s[:-2]   \n",
    "    else:\n",
    "        return str(int(s[:2]) + 12) + s[2:-2]"
   ]
  },
  {
   "cell_type": "code",
   "execution_count": 81,
   "id": "8ce1b7ec-eb49-443c-97cb-7725d91c3d6c",
   "metadata": {
    "tags": []
   },
   "outputs": [
    {
     "name": "stdout",
     "output_type": "stream",
     "text": [
      "14:05:45\n"
     ]
    }
   ],
   "source": [
    "print(timeConversion(s))"
   ]
  },
  {
   "cell_type": "markdown",
   "id": "1a7b78f8-25ad-4ed2-8455-9104da1af6ba",
   "metadata": {
    "tags": []
   },
   "source": [
    "### Sparse Arrays"
   ]
  },
  {
   "cell_type": "code",
   "execution_count": 93,
   "id": "6f2dcf05-3a93-459a-88cc-17f69e69dc7e",
   "metadata": {
    "tags": []
   },
   "outputs": [],
   "source": [
    "strings = ['ab', 'ab', 'bc']\n",
    "queries = ['ab', 'abc', 'bc']"
   ]
  },
  {
   "cell_type": "code",
   "execution_count": 108,
   "id": "b93cea99-b4b0-447f-97f2-0c9b49911203",
   "metadata": {
    "tags": []
   },
   "outputs": [],
   "source": [
    "def matchingStrings(strings, queries):\n",
    "    return [strings.count(query) for query in queries]"
   ]
  },
  {
   "cell_type": "code",
   "execution_count": 110,
   "id": "51aaf623-25fd-40db-8620-5fba23d1b458",
   "metadata": {
    "tags": []
   },
   "outputs": [
    {
     "data": {
      "text/plain": [
       "[2, 0, 1]"
      ]
     },
     "execution_count": 110,
     "metadata": {},
     "output_type": "execute_result"
    }
   ],
   "source": [
    "matchingStrings(strings, queries)"
   ]
  },
  {
   "cell_type": "markdown",
   "id": "894228ba-58bb-42bd-a788-a87077ae3620",
   "metadata": {
    "tags": []
   },
   "source": [
    "### Lonely Integer"
   ]
  },
  {
   "cell_type": "code",
   "execution_count": 190,
   "id": "a101566f-a159-4d56-9f0b-249daf8add6d",
   "metadata": {
    "tags": []
   },
   "outputs": [
    {
     "name": "stdin",
     "output_type": "stream",
     "text": [
      " 7\n",
      " 1 2 3 4 3 2 1\n"
     ]
    }
   ],
   "source": [
    "n = int(input().strip())\n",
    "\n",
    "a = list(map(int, input().rstrip().split()))"
   ]
  },
  {
   "cell_type": "code",
   "execution_count": 193,
   "id": "c06cbb88-80d8-4b83-9fb8-b068f6ce3504",
   "metadata": {
    "tags": []
   },
   "outputs": [],
   "source": [
    "def lonelyinteger(a):\n",
    "    cnt = [i for i in set(a) if a.count(i) == 1]\n",
    "    #print(*sorted(cnt), sep = ' ')\n",
    "    return cnt[0]"
   ]
  },
  {
   "cell_type": "code",
   "execution_count": 194,
   "id": "9e900009-065a-464e-904d-7f3aca7ae8ca",
   "metadata": {
    "tags": []
   },
   "outputs": [
    {
     "data": {
      "text/plain": [
       "4"
      ]
     },
     "execution_count": 194,
     "metadata": {},
     "output_type": "execute_result"
    }
   ],
   "source": [
    "lonelyinteger(a)"
   ]
  },
  {
   "cell_type": "markdown",
   "id": "a990b466-49a8-48f9-bf7c-a23810dd195e",
   "metadata": {
    "tags": []
   },
   "source": [
    "### Flipping Bits"
   ]
  },
  {
   "cell_type": "code",
   "execution_count": 195,
   "id": "5b5a59aa-e1f0-4908-85dc-d9186a59cdd0",
   "metadata": {
    "tags": []
   },
   "outputs": [],
   "source": [
    "def flippingBits(n: int) -> int:\n",
    "    return ~n + 2**32"
   ]
  },
  {
   "cell_type": "code",
   "execution_count": 196,
   "id": "30c49c8e-17fb-4bf4-bd5c-e61d5bb5fbb9",
   "metadata": {
    "tags": []
   },
   "outputs": [
    {
     "name": "stdin",
     "output_type": "stream",
     "text": [
      " 3\n",
      " 2147483647\n"
     ]
    },
    {
     "name": "stdout",
     "output_type": "stream",
     "text": [
      "2147483648\n"
     ]
    },
    {
     "name": "stdin",
     "output_type": "stream",
     "text": [
      " 1\n"
     ]
    },
    {
     "name": "stdout",
     "output_type": "stream",
     "text": [
      "4294967294\n"
     ]
    },
    {
     "name": "stdin",
     "output_type": "stream",
     "text": [
      " 0\n"
     ]
    },
    {
     "name": "stdout",
     "output_type": "stream",
     "text": [
      "4294967295\n"
     ]
    }
   ],
   "source": [
    "q = int(input().strip())\n",
    "\n",
    "for q_itr in range(q):\n",
    "    n = int(input().strip())\n",
    "    result = flippingBits(n)\n",
    "    print(result)"
   ]
  },
  {
   "cell_type": "markdown",
   "id": "f6909e0e-8cdc-47f9-be78-db0a3589531b",
   "metadata": {},
   "source": [
    "### Counting Sort"
   ]
  },
  {
   "cell_type": "code",
   "execution_count": 148,
   "id": "9c8593a3-ca84-4e1e-9adc-d2a514680781",
   "metadata": {
    "tags": []
   },
   "outputs": [
    {
     "name": "stdin",
     "output_type": "stream",
     "text": [
      " 100\n",
      " 63 25 73 1 98 73 56 84 86 57 16 83 8 25 81 56 9 53 98 67 99 12 83 89 80 91 39 86 76 85 74 39 25 90 59 10 94 32 44 3 89 30 27 79 46 96 27 32 18 21 92 69 81 40 40 34 68 78 24 87 42 69 23 41 78 22 6 90 99 89 50 30 20 1 43 3 70 95 33 46 44 9 69 48 33 60 65 16 82 67 61 32 21 79 75 75 13 87 70 33\n"
     ]
    }
   ],
   "source": [
    "n = int(input().strip())\n",
    "arr  = list(map(int, input().rstrip().split()))"
   ]
  },
  {
   "cell_type": "code",
   "execution_count": 168,
   "id": "0765ed3a-2ba8-4bea-8bd8-6b3f92ad103a",
   "metadata": {
    "tags": []
   },
   "outputs": [],
   "source": [
    "def countingSort(arr):\n",
    "    new_arr = [0] * 100\n",
    "    for b in arr:\n",
    "        new_arr[b] += 1\n",
    "    return new_arr"
   ]
  },
  {
   "cell_type": "markdown",
   "id": "1a4bd04e-360c-43b8-b1a3-728b84d23a65",
   "metadata": {},
   "source": [
    "### Pangrams"
   ]
  },
  {
   "cell_type": "code",
   "execution_count": 169,
   "id": "9766a1d6-de21-4a78-8207-2b2352847332",
   "metadata": {
    "tags": []
   },
   "outputs": [
    {
     "name": "stdin",
     "output_type": "stream",
     "text": [
      " We promptly judged antique ivory buckles for the next prize\n"
     ]
    }
   ],
   "source": [
    "s = input()"
   ]
  },
  {
   "cell_type": "code",
   "execution_count": 170,
   "id": "a7c317a3-f490-4d6f-868a-a89ac0938e34",
   "metadata": {
    "tags": []
   },
   "outputs": [
    {
     "data": {
      "text/plain": [
       "'We promptly judged antique ivory buckles for the next prize'"
      ]
     },
     "execution_count": 170,
     "metadata": {},
     "output_type": "execute_result"
    }
   ],
   "source": [
    "s"
   ]
  },
  {
   "cell_type": "code",
   "execution_count": 184,
   "id": "50284f91-46ea-48a5-8c14-6f8a07e5dd69",
   "metadata": {
    "tags": []
   },
   "outputs": [],
   "source": [
    "def pangrams(s):\n",
    "    s = ''.join(l for l in s if l.isalpha()).lower()\n",
    "    if len(set(s)) == 26:\n",
    "        return 'pangram'\n",
    "    else:\n",
    "        return 'not pangram'"
   ]
  }
 ],
 "metadata": {
  "kernelspec": {
   "display_name": "sandboxDS",
   "language": "python",
   "name": "sandboxds"
  },
  "language_info": {
   "codemirror_mode": {
    "name": "ipython",
    "version": 3
   },
   "file_extension": ".py",
   "mimetype": "text/x-python",
   "name": "python",
   "nbconvert_exporter": "python",
   "pygments_lexer": "ipython3",
   "version": "3.9.13"
  }
 },
 "nbformat": 4,
 "nbformat_minor": 5
}
